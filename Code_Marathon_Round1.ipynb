{
  "nbformat": 4,
  "nbformat_minor": 0,
  "metadata": {
    "colab": {
      "name": "Code Marathon Round1.ipynb",
      "version": "0.3.2",
      "provenance": [],
      "collapsed_sections": [],
      "include_colab_link": true
    },
    "kernelspec": {
      "name": "python3",
      "display_name": "Python 3"
    },
    "accelerator": "GPU"
  },
  "cells": [
    {
      "cell_type": "markdown",
      "metadata": {
        "id": "view-in-github",
        "colab_type": "text"
      },
      "source": [
        "<a href=\"https://colab.research.google.com/github/devvats/Competitions/blob/master/Code_Marathon_Round1.ipynb\" target=\"_parent\"><img src=\"https://colab.research.google.com/assets/colab-badge.svg\" alt=\"Open In Colab\"/></a>"
      ]
    },
    {
      "metadata": {
        "id": "n-CMvbxcpiJW",
        "colab_type": "code",
        "colab": {}
      },
      "cell_type": "code",
      "source": [
        "import numpy as np\n",
        "import pandas as pd\n",
        "import cv2\n",
        "import zipfile\n",
        "from google.colab import drive\n",
        "drive.mount('/content/drive')\n",
        "import shutil"
      ],
      "execution_count": 0,
      "outputs": []
    },
    {
      "metadata": {
        "id": "VkFjg1j0ITHr",
        "colab_type": "text"
      },
      "cell_type": "markdown",
      "source": [
        "# Loading Data"
      ]
    },
    {
      "metadata": {
        "id": "26jMy0i1pkaO",
        "colab_type": "code",
        "colab": {},
        "cellView": "code"
      },
      "cell_type": "code",
      "source": [
        "#@title Default title text\n",
        "shutil.copy('drive/My Drive/code marathon dataset/data/train.csv','./train.csv')\n",
        "data = pd.read_csv(\"train.csv\")\n",
        "y = np.array(data[\"n_sides\"])\n",
        "x = list(data[\"image_name\"])"
      ],
      "execution_count": 0,
      "outputs": []
    },
    {
      "metadata": {
        "id": "-BHldW9op9b8",
        "colab_type": "code",
        "colab": {}
      },
      "cell_type": "code",
      "source": [
        "\n",
        "Xtrain = x[:16000]\n",
        "Ytrain = y[:16000]\n",
        "Xval = x[16000:]\n",
        "val = y[16000:]\n",
        "train = Generator(Xtrain, Ytrain,8,10)\n",
        "validation = Generator(Xval, Yval, 8, 10)"
      ],
      "execution_count": 0,
      "outputs": []
    },
    {
      "metadata": {
        "id": "KSmzpvjTIpk-",
        "colab_type": "text"
      },
      "cell_type": "markdown",
      "source": [
        "# Acc_criteria and Generator Function\n"
      ]
    },
    {
      "metadata": {
        "id": "HIu5tDihsLEA",
        "colab_type": "code",
        "colab": {}
      },
      "cell_type": "code",
      "source": [
        "import keras.backend as K\n",
        "\n",
        "def mean_pred(y_true, y_pred):\n",
        "    return K.sqrt(K.mean((y_pred-y_true)*(y_pred-y_true)))\n",
        "\n"
      ],
      "execution_count": 0,
      "outputs": []
    },
    {
      "metadata": {
        "id": "_HuUJ7hGp7ie",
        "colab_type": "code",
        "colab": {}
      },
      "cell_type": "code",
      "source": [
        "from keras.utils import Sequence,to_categorical\n",
        "\n",
        "class Generator(Sequence):\n",
        "  \n",
        "    def __init__(self,X,Y,batch,n_classes):\n",
        "      \n",
        "        self.x=X\n",
        "        self.y=Y\n",
        "        self.batch=batch\n",
        "        self.n_classes=n_classes\n",
        "        self.cnt=0\n",
        "    \n",
        "    def __len__(self):\n",
        "       \n",
        "        return int(np.floor(np.array(self.x).shape[0]) / self.batch)\n",
        "  \n",
        "  \n",
        "    def __getitem__(self,index):\n",
        "        \n",
        "        path_x=self.x[index*self.batch:(index+1)*self.batch]\n",
        "        path_y=self.y[index*(self.batch):(index+1)*self.batch]\n",
        "        X=[]\n",
        "        Y=path_y\n",
        "       \n",
        "        for x_path in path_x:\n",
        "            temp_x= cv2.imread(\"drive/My Drive/code marathon dataset/data/train/\"+x_path,0) \n",
        "            temp_x = x_path\n",
        "            v = np.median(temp_x)\n",
        "            lower = int(max(0, (1.0 - 0.33) * v))\n",
        "            upper = int(min(255, (1.0 + 0.33) * v))\n",
        "            edged = cv2.Canny(temp_x, lower, upper)\n",
        "            temp_x = np.array(edged).reshape(256,256,1)\n",
        "            temp_x = np.concatenate((temp_x, temp_x,temp_x), axis=2)\n",
        "            \n",
        "            self.cnt=self.cnt+1\n",
        "            X.append(temp_x)\n",
        "        X=np.array(X)\n",
        "        Y=np.array(Y)\n",
        "        return X,to_categorical(Y,self.n_classes)"
      ],
      "execution_count": 0,
      "outputs": []
    },
    {
      "metadata": {
        "id": "nU5n05zeI9CG",
        "colab_type": "text"
      },
      "cell_type": "markdown",
      "source": [
        "# Model"
      ]
    },
    {
      "metadata": {
        "id": "41W3yXNOrnR5",
        "colab_type": "code",
        "colab": {}
      },
      "cell_type": "code",
      "source": [
        "import keras\n",
        "from keras.applications.inception_resnet_v2 import InceptionResNetV2\n",
        "from keras import backend as K\n",
        "from keras.models import Model\n",
        "from keras.models import Sequential\n",
        "from keras.layers import Dense, Activation, Dropout, Flatten, Conv2D, MaxPooling2D,GlobalAveragePooling2D\n",
        "np.random.seed(17)\n",
        "\n",
        "base_model = InceptionResNetV2(weights='imagenet', include_top=False)\n",
        "x = base_model.output\n",
        "x = GlobalAveragePooling2D()(x)\n",
        "\n",
        "x = Dense(1024, activation='relu')(x)\n",
        "x = Dense(200, activation='relu')(x)\n",
        "predictions = Dense(10, activation='softmax')(x)\n",
        "model = Model(inputs=base_model.input, outputs=predictions)\n",
        "\n",
        "model.summary()"
      ],
      "execution_count": 0,
      "outputs": []
    },
    {
      "metadata": {
        "id": "xv58nB4SS6su",
        "colab_type": "code",
        "colab": {}
      },
      "cell_type": "code",
      "source": [
        "from keras import optimizers\n",
        "ad = optimizers.Adam(lr=0.0001)\n",
        "model.compile(loss='categorical_crossentropy', optimizer=ad, metrics=['accuracy',mean_pred])\n",
        "#model.load_weights(\"drive/My Drive/code marathon dataset/data/model313.hdf5\")\n",
        "model.compile(loss='categorical_crossentropy', optimizer=ad, metrics=['accuracy',mean_pred])"
      ],
      "execution_count": 0,
      "outputs": []
    },
    {
      "metadata": {
        "id": "GXfpeFU1oCsH",
        "colab_type": "code",
        "colab": {}
      },
      "cell_type": "code",
      "source": [
        "from keras.callbacks import ModelCheckpoint, ReduceLROnPlateau\n",
        "model_checkpoint = ModelCheckpoint(\"drive/My Drive/code marathon dataset/data/model313.hdf5\", monitor='mean_pred', save_best_only=True,save_weights_only=True, verbose=1)\n",
        "learning_rate_reduction = ReduceLROnPlateau(monitor='mean_pred', \n",
        "                                            patience=1, \n",
        "                                            verbose=1, \n",
        "                                            factor=0.5, \n",
        "                                            min_lr=0.000000000001)"
      ],
      "execution_count": 0,
      "outputs": []
    },
    {
      "metadata": {
        "id": "pt4Bt9XgsWRv",
        "colab_type": "code",
        "colab": {}
      },
      "cell_type": "code",
      "source": [
        "Process = model.fit_generator(generator=train,\n",
        "                    validation_data=validation,\n",
        "                    use_multiprocessing=True,\n",
        "                    workers = 4,\n",
        "                    epochs = 15,\n",
        "                    verbose = 1,\n",
        "                    shuffle = True,\n",
        "                    callbacks=[model_checkpoint,learning_rate_reduction] )"
      ],
      "execution_count": 0,
      "outputs": []
    },
    {
      "metadata": {
        "id": "L3jcZbL2JGQ9",
        "colab_type": "code",
        "colab": {}
      },
      "cell_type": "code",
      "source": [
        "#model.save_weights(\"drive/My Drive/code marathon dataset/data/model311.h5\")\n",
        "model.save_weights(\"drive/My Drive/code marathon dataset/data/modelabc.h5\")"
      ],
      "execution_count": 0,
      "outputs": []
    }
  ]
}